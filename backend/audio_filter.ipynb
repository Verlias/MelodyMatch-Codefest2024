{
 "cells": [
  {
   "cell_type": "code",
   "execution_count": 55,
   "metadata": {},
   "outputs": [],
   "source": [
    "import spotipy\n",
    "import os\n",
    "from dotenv import load_dotenv\n",
    "from spotipy.oauth2 import SpotifyClientCredentials\n",
    "from sklearn.neighbors import NearestNeighbors\n",
    "from sklearn.preprocessing import StandardScaler"
   ]
  },
  {
   "cell_type": "code",
   "execution_count": 56,
   "metadata": {},
   "outputs": [],
   "source": [
    "load_dotenv()\n",
    "# Initialize Spotify client\n",
    "CLIENT_ID = os.getenv(\"CLIENT_ID\")\n",
    "CLIENT_SECRET = os.getenv(\"CLIENT_SECRET\")\n",
    "client_credentials_manager = SpotifyClientCredentials(client_id=CLIENT_ID, client_secret=CLIENT_SECRET)\n",
    "sp = spotipy.Spotify(client_credentials_manager=client_credentials_manager)"
   ]
  },
  {
   "cell_type": "code",
   "execution_count": 60,
   "metadata": {},
   "outputs": [],
   "source": [
    "def get_audio_features(track_id):\n",
    "    audio_features = sp.audio_features(track_id)\n",
    "    if audio_features:\n",
    "        return audio_features[0]\n",
    "    else:\n",
    "        return None"
   ]
  },
  {
   "cell_type": "code",
   "execution_count": 58,
   "metadata": {},
   "outputs": [],
   "source": [
    "def find_similar_tracks(seed_track_id, num_tracks=50, k=10):\n",
    "    tracks = sp.recommendations(seed_tracks=[seed_track_id], limit=num_tracks)['tracks']\n",
    "    candidate_track_ids = [track['id'] for track in tracks]\n",
    "    candidate_track_names = [track['name'] for track in tracks]\n",
    "\n",
    "    seed_features = get_audio_features(seed_track_id)\n",
    "    candidate_features = [get_audio_features(track_id) for track_id in candidate_track_ids]\n",
    "\n",
    "    X = [[track['tempo'], track['energy'], track['danceability']] for track in candidate_features]\n",
    "\n",
    "    scaler = StandardScaler()\n",
    "    X_scaled = scaler.fit_transform(X)\n",
    "\n",
    "    knn_model = NearestNeighbors(n_neighbors=k).fit(X_scaled)\n",
    "\n",
    "    seed_features_scaled = scaler.transform([[seed_features['tempo'], seed_features['energy'], seed_features['danceability']]])\n",
    "    distances, indices = knn_model.kneighbors(seed_features_scaled)\n",
    "\n",
    "    similar_tracks = [(candidate_track_names[i], candidate_track_ids[i]) for i in indices[0] if candidate_track_ids[i] != seed_track_id]\n",
    "    return similar_tracks"
   ]
  },
  {
   "cell_type": "code",
   "execution_count": 61,
   "metadata": {},
   "outputs": [
    {
     "name": "stdout",
     "output_type": "stream",
     "text": [
      "Similar tracks:\n",
      "Ain't My Fault - Track ID: 0ADG9OgdVTL7fgREP75BrZ\n",
      "Bittersweet - Track ID: 6PMBbwveuclVCMePlnbU0L\n",
      "Secrets - Track ID: 1NhPKVLsHhFUHIOZ32QnS2\n",
      "Confident - Track ID: 3DXXKDbbZKyAZfNb96ST3q\n",
      "You Make Me - Track ID: 52RK8UVEDgUAgpecOpTQM3\n",
      "Hey Brother - Track ID: 4lhqb6JvbHId48OUJGwymk\n",
      "Never Be the Same - Track ID: 4eWQlBRaTjPPUlzacqEeoQ\n",
      "GDFR (feat. Sage the Gemini & Lookas) - Track ID: 26rdOwwjC2UnweK3xeS58u\n",
      "Kings & Queens - Track ID: 7a53HqqArd4b9NF4XAmlbI\n",
      "Born This Way - Track ID: 6r2BECwMgEoRb5yLfp0Hca\n"
     ]
    }
   ],
   "source": [
    "seed_track_id = '5JEx7HbmvHQQswJCsoo9rA' #Close To Me by Ellie Goulding\n",
    "similar_tracks = find_similar_tracks(seed_track_id)\n",
    "print(\"Similar tracks:\")\n",
    "for track_name, track_id in similar_tracks:\n",
    "    print(f\"{track_name} - Track ID: {track_id}\")"
   ]
  }
 ],
 "metadata": {
  "kernelspec": {
   "display_name": "base",
   "language": "python",
   "name": "python3"
  },
  "language_info": {
   "codemirror_mode": {
    "name": "ipython",
    "version": 3
   },
   "file_extension": ".py",
   "mimetype": "text/x-python",
   "name": "python",
   "nbconvert_exporter": "python",
   "pygments_lexer": "ipython3",
   "version": "3.12.2"
  }
 },
 "nbformat": 4,
 "nbformat_minor": 2
}
